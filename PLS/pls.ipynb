{
  "nbformat": 4,
  "nbformat_minor": 0,
  "metadata": {
    "colab": {
      "provenance": [],
      "authorship_tag": "ABX9TyOL/ziAuNQTPmZaDfPmHEij",
      "include_colab_link": true
    },
    "kernelspec": {
      "name": "python3",
      "display_name": "Python 3"
    },
    "language_info": {
      "name": "python"
    }
  },
  "cells": [
    {
      "cell_type": "markdown",
      "metadata": {
        "id": "view-in-github",
        "colab_type": "text"
      },
      "source": [
        "<a href=\"https://colab.research.google.com/github/larissamazzero/RMN/blob/main/PLS/pls.ipynb\" target=\"_parent\"><img src=\"https://colab.research.google.com/assets/colab-badge.svg\" alt=\"Open In Colab\"/></a>"
      ]
    },
    {
      "cell_type": "markdown",
      "source": [
        "#Partial Least Squares Regression (PLS)"
      ],
      "metadata": {
        "id": "mGBNnwGyjefA"
      }
    },
    {
      "cell_type": "markdown",
      "source": [
        "##Definição"
      ],
      "metadata": {
        "id": "k2sZirCyjfzE"
      }
    },
    {
      "cell_type": "markdown",
      "source": [
        "A regressão PLS (partial least squares) vem sendo amplamente utilizada em procedimentos de seleção de variáveis por sua capacidade de operar com grande número de variáveis correlacionadas e afetadas por ruído. "
      ],
      "metadata": {
        "id": "AhdzzzhpjfwL"
      }
    },
    {
      "cell_type": "markdown",
      "source": [
        "Este artigo propõe um método para identificar o melhor subconjunto de variáveis de processo para a predição das variáveis de resposta. É uma técnica que reduz os preditores a um conjunto menor de componentes não correlacionados e efetua regressão de mínimos quadrados para esses componentes no lugar dos dados originais. "
      ],
      "metadata": {
        "id": "YiWxKegAjfqs"
      }
    },
    {
      "cell_type": "markdown",
      "source": [
        "A regressão PLS é particularmente útil quando os preditores são altamente colineares ou quando existem mais preditores do que observações e a regressão de mínimos quadrados ordinários gera coeficientes com erros padrão altos ou que falha totalmente."
      ],
      "metadata": {
        "id": "JCctnf3mjfig"
      }
    },
    {
      "cell_type": "markdown",
      "source": [
        "##Casos de uso"
      ],
      "metadata": {
        "id": "LAVSX5NxkR-Y"
      }
    },
    {
      "cell_type": "markdown",
      "source": [
        "A regressão PLS é usada primariamente nos setores químico, farmacêutico, alimentício e plástico. Uma aplicação comum consiste em modelar a relação entre medidas espectrais (NIR, IR e UV), que incluem muitas variáveis frequentemente correlacionadas entre si, e composição química ou outras propriedades físico-químicas. Na regressão PLS, a ênfase está em desenvolver modelos preditivos. Por isso ela não é muito usada para filtrar variáveis que não sejam úteis para explicar a resposta.\n",
        "\n",
        "FONTE: https://support.minitab.com/pt-br/minitab/20/help-and-how-to/statistical-modeling/regression/supporting-topics/partial-least-squares-regression/what-is-partial-least-squares-regression/"
      ],
      "metadata": {
        "id": "mMLAFYfIkR7o"
      }
    },
    {
      "cell_type": "markdown",
      "source": [
        "##Funcionamento"
      ],
      "metadata": {
        "id": "oJlN0KI7kRu9"
      }
    },
    {
      "cell_type": "markdown",
      "source": [
        "A regressão PLS relaciona a matriz X (composta por variáveis de processo x) à matriz Y (composta por variáveis de produto y), permitindo analisar dados com forte correlação, elevados níveis de ruído e desequilíbrio entre o número de variáveis e observações. Tal regressão gera um conjunto de parâmetros que fornecem informações sobre a estrutura e comportamento de X e Y, o que corrobora para sua ampla aplicação em procedimentos de seleção de variáveis (WOLD; SJÖSTRÖM; ERIKSSON, 2001).\n",
        "\n",
        "Etapa 1: Dividir o banco de dados em conjuntos de treino e teste\n",
        "\n",
        "Etapa 2: Aplicar a regressão PLS no conjunto de treino e gerar índices de importância das variáveis\n",
        "\n",
        "Etapa 3: Predizer a variável de resposta y para o conjunto de treino e eliminar as variáveis irrelevantes e ruidosas\n",
        "\n",
        "Etapa 4: Construir um gráfico para identificar o melhor subconjunto de variáveis e testar essas variáveis no conjunto de teste\n",
        "\n",
        "Etapa 5: Comparar o desempenho dos índices de importância e identificar o melhor método para a seleção de variáveis\n",
        "\n",
        "FONTE: https://www.scielo.br/j/prod/a/7Pbw8HKvxD7F87rTSLJqCFD/?format=pdf&lang=pt#:~:text=A%20regressão%20PLS%20consiste%20em,número%20reduzido%20de%20combinações%20lineares."
      ],
      "metadata": {
        "id": "kndIUksgkRNg"
      }
    },
    {
      "cell_type": "markdown",
      "source": [
        "##Requisitos"
      ],
      "metadata": {
        "id": "YsMAOByGkmXH"
      }
    },
    {
      "cell_type": "markdown",
      "source": [],
      "metadata": {
        "id": "ALsbUzDrkmPr"
      }
    },
    {
      "cell_type": "markdown",
      "source": [],
      "metadata": {
        "id": "wT-wp0-MkmGY"
      }
    },
    {
      "cell_type": "markdown",
      "source": [
        "##Exemplo de aplicação"
      ],
      "metadata": {
        "id": "cTQccJTWlP9F"
      }
    },
    {
      "cell_type": "markdown",
      "source": [],
      "metadata": {
        "id": "5SH9bt6AlUDk"
      }
    },
    {
      "cell_type": "markdown",
      "source": [],
      "metadata": {
        "id": "uS-Q-xC0lUlD"
      }
    },
    {
      "cell_type": "markdown",
      "source": [],
      "metadata": {
        "id": "Ilju94uwlVgN"
      }
    }
  ]
}