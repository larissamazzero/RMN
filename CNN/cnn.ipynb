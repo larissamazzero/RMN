{
  "nbformat": 4,
  "nbformat_minor": 0,
  "metadata": {
    "colab": {
      "provenance": [],
      "collapsed_sections": [
        "GSCde1yclJNm",
        "s1pj2TGUn2y9",
        "ugNxrD16n57M",
        "mSdaStPAn92H",
        "TZ-qqMSeoBMQ"
      ],
      "authorship_tag": "ABX9TyMdeaBYCOykwYSc3mh8aK6c",
      "include_colab_link": true
    },
    "kernelspec": {
      "name": "python3",
      "display_name": "Python 3"
    },
    "language_info": {
      "name": "python"
    }
  },
  "cells": [
    {
      "cell_type": "markdown",
      "metadata": {
        "id": "view-in-github",
        "colab_type": "text"
      },
      "source": [
        "<a href=\"https://colab.research.google.com/github/larissamazzero/RMN/blob/main/CNN/cnn.ipynb\" target=\"_parent\"><img src=\"https://colab.research.google.com/assets/colab-badge.svg\" alt=\"Open In Colab\"/></a>"
      ]
    },
    {
      "cell_type": "markdown",
      "source": [
        "#Convolutional Neural Network (CNN)"
      ],
      "metadata": {
        "id": "lbqNqsf5lJP4"
      }
    },
    {
      "cell_type": "markdown",
      "source": [
        "##Definição"
      ],
      "metadata": {
        "id": "GSCde1yclJNm"
      }
    },
    {
      "cell_type": "markdown",
      "source": [],
      "metadata": {
        "id": "zP0ybB3plJLb"
      }
    },
    {
      "cell_type": "markdown",
      "source": [],
      "metadata": {
        "id": "IXTaj3bWlJDN"
      }
    },
    {
      "cell_type": "markdown",
      "source": [
        "##Casos de uso"
      ],
      "metadata": {
        "id": "s1pj2TGUn2y9"
      }
    },
    {
      "cell_type": "markdown",
      "source": [],
      "metadata": {
        "id": "GbaRMl-dn6K9"
      }
    },
    {
      "cell_type": "markdown",
      "source": [],
      "metadata": {
        "id": "4FJobyIxn6DN"
      }
    },
    {
      "cell_type": "markdown",
      "source": [
        "##Fucionamento"
      ],
      "metadata": {
        "id": "ugNxrD16n57M"
      }
    },
    {
      "cell_type": "markdown",
      "source": [],
      "metadata": {
        "id": "BuzdkiZhn-WR"
      }
    },
    {
      "cell_type": "markdown",
      "source": [],
      "metadata": {
        "id": "kTxPi9A6n99x"
      }
    },
    {
      "cell_type": "markdown",
      "source": [
        "##Requisitos"
      ],
      "metadata": {
        "id": "mSdaStPAn92H"
      }
    },
    {
      "cell_type": "markdown",
      "source": [],
      "metadata": {
        "id": "2JlTY50goBiI"
      }
    },
    {
      "cell_type": "markdown",
      "source": [],
      "metadata": {
        "id": "ieCxlifeoBV5"
      }
    },
    {
      "cell_type": "markdown",
      "source": [
        "##Exemplo de aplicação"
      ],
      "metadata": {
        "id": "TZ-qqMSeoBMQ"
      }
    },
    {
      "cell_type": "markdown",
      "source": [],
      "metadata": {
        "id": "VQ4BuSStoJNk"
      }
    },
    {
      "cell_type": "markdown",
      "source": [],
      "metadata": {
        "id": "G3I76vmGoJGI"
      }
    }
  ]
}